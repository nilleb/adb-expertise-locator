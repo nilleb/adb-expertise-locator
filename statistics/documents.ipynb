{
 "cells": [
  {
   "cell_type": "code",
   "execution_count": 2,
   "metadata": {},
   "outputs": [
    {
     "data": {
      "text/html": [
       "<div>\n",
       "<style scoped>\n",
       "    .dataframe tbody tr th:only-of-type {\n",
       "        vertical-align: middle;\n",
       "    }\n",
       "\n",
       "    .dataframe tbody tr th {\n",
       "        vertical-align: top;\n",
       "    }\n",
       "\n",
       "    .dataframe thead th {\n",
       "        text-align: right;\n",
       "    }\n",
       "</style>\n",
       "<table border=\"1\" class=\"dataframe\">\n",
       "  <thead>\n",
       "    <tr style=\"text-align: right;\">\n",
       "      <th></th>\n",
       "      <th>has_title</th>\n",
       "      <th>has_author</th>\n",
       "      <th>has_content</th>\n",
       "      <th>has_keywords</th>\n",
       "      <th>fp</th>\n",
       "    </tr>\n",
       "  </thead>\n",
       "  <tbody>\n",
       "    <tr>\n",
       "      <th>count</th>\n",
       "      <td>5285</td>\n",
       "      <td>5285</td>\n",
       "      <td>5285</td>\n",
       "      <td>5285</td>\n",
       "      <td>5285</td>\n",
       "    </tr>\n",
       "    <tr>\n",
       "      <th>unique</th>\n",
       "      <td>2</td>\n",
       "      <td>2</td>\n",
       "      <td>2</td>\n",
       "      <td>2</td>\n",
       "      <td>5285</td>\n",
       "    </tr>\n",
       "    <tr>\n",
       "      <th>top</th>\n",
       "      <td>False</td>\n",
       "      <td>False</td>\n",
       "      <td>True</td>\n",
       "      <td>False</td>\n",
       "      <td>data/input/pdf-generic/adbi-wp226.pdf.metadata...</td>\n",
       "    </tr>\n",
       "    <tr>\n",
       "      <th>freq</th>\n",
       "      <td>2956</td>\n",
       "      <td>3144</td>\n",
       "      <td>2794</td>\n",
       "      <td>3639</td>\n",
       "      <td>1</td>\n",
       "    </tr>\n",
       "  </tbody>\n",
       "</table>\n",
       "</div>"
      ],
      "text/plain": [
       "       has_title has_author has_content has_keywords  \\\n",
       "count       5285       5285        5285         5285   \n",
       "unique         2          2           2            2   \n",
       "top        False      False        True        False   \n",
       "freq        2956       3144        2794         3639   \n",
       "\n",
       "                                                       fp  \n",
       "count                                                5285  \n",
       "unique                                               5285  \n",
       "top     data/input/pdf-generic/adbi-wp226.pdf.metadata...  \n",
       "freq                                                    1  "
      ]
     },
     "execution_count": 2,
     "metadata": {},
     "output_type": "execute_result"
    }
   ],
   "source": [
    "import pandas as pd\n",
    "import json\n",
    "\n",
    "with open('complete_documents.json','r') as fd:\n",
    "    data = json.load(fd)\n",
    "\n",
    "df = pd.DataFrame(columns=['fp', 'has_title', 'has_author', 'has_content', 'has_keywords'])\n",
    "df_list = []\n",
    "for fp, attrs in data.get('documents').items():\n",
    "    attrs.update({'fp': fp})\n",
    "    df_list.append(attrs)\n",
    "\n",
    "df = pd.DataFrame.from_records(df_list)\n",
    "df.describe()\n"
   ]
  },
  {
   "cell_type": "code",
   "execution_count": 3,
   "metadata": {},
   "outputs": [
    {
     "data": {
      "text/plain": [
       "has_title       2330\n",
       "has_author      2330\n",
       "has_content     2330\n",
       "has_keywords    2330\n",
       "fp              2330\n",
       "dtype: int64"
      ]
     },
     "execution_count": 3,
     "metadata": {},
     "output_type": "execute_result"
    }
   ],
   "source": [
    "df[df['has_title'] | df['has_keywords']].count()"
   ]
  },
  {
   "cell_type": "code",
   "execution_count": 4,
   "metadata": {},
   "outputs": [
    {
     "data": {
      "text/plain": [
       "has_title       1645\n",
       "has_author      1645\n",
       "has_content     1645\n",
       "has_keywords    1645\n",
       "fp              1645\n",
       "dtype: int64"
      ]
     },
     "execution_count": 4,
     "metadata": {},
     "output_type": "execute_result"
    }
   ],
   "source": [
    "df[df['has_title'] & df['has_keywords']].count()"
   ]
  },
  {
   "cell_type": "code",
   "execution_count": 5,
   "metadata": {},
   "outputs": [
    {
     "data": {
      "text/plain": [
       "has_title       1646\n",
       "has_author      1646\n",
       "has_content     1646\n",
       "has_keywords    1646\n",
       "fp              1646\n",
       "dtype: int64"
      ]
     },
     "execution_count": 5,
     "metadata": {},
     "output_type": "execute_result"
    }
   ],
   "source": [
    "df[df['has_keywords']].count()"
   ]
  },
  {
   "cell_type": "code",
   "execution_count": 6,
   "metadata": {},
   "outputs": [
    {
     "data": {
      "text/plain": [
       "has_title       2329\n",
       "has_author      2329\n",
       "has_content     2329\n",
       "has_keywords    2329\n",
       "fp              2329\n",
       "dtype: int64"
      ]
     },
     "execution_count": 6,
     "metadata": {},
     "output_type": "execute_result"
    }
   ],
   "source": [
    "df[df['has_title']].count()"
   ]
  },
  {
   "cell_type": "code",
   "execution_count": 7,
   "metadata": {},
   "outputs": [
    {
     "data": {
      "text/plain": [
       "has_title       2794\n",
       "has_author      2794\n",
       "has_content     2794\n",
       "has_keywords    2794\n",
       "fp              2794\n",
       "dtype: int64"
      ]
     },
     "execution_count": 7,
     "metadata": {},
     "output_type": "execute_result"
    }
   ],
   "source": [
    "df[df['has_content'] | df['has_keywords']].count()"
   ]
  },
  {
   "cell_type": "code",
   "execution_count": 8,
   "metadata": {},
   "outputs": [
    {
     "data": {
      "text/plain": [
       "has_title       2794\n",
       "has_author      2794\n",
       "has_content     2794\n",
       "has_keywords    2794\n",
       "fp              2794\n",
       "dtype: int64"
      ]
     },
     "execution_count": 8,
     "metadata": {},
     "output_type": "execute_result"
    }
   ],
   "source": [
    "df[df['has_content']].count()\n",
    "# greater cardinality than metadata, hence we could apply statistical analysis on content\n",
    "# problem: sometimes several words compose a single concept\n",
    "# idea: use opencyc - https://github.com/asanchez75/opencyc to identify concepts in a common sense onthology\n",
    "# idea: use BERT for NER: https://huggingface.co/dslim/bert-base-NER\n",
    "# idea: use the 'classified.json' data which is the fruit of applying Stanford NER on the texts\n",
    "# idea: apply flair to extracted texts\n",
    "# idea: specialize the model by Stanford or Flair to ADB corpus (too expensive - excluded)\n",
    "# I read https://mccormickml.com/2020/05/19/existing-ner-tools/\n",
    "# https://stanfordnlp.github.io/stanza/index.html#about\n",
    "# https://huggingface.co/dslim/bert-base-NER\n",
    "\n",
    "# this is interesting, too, https://github.com/voila-dashboards/voila\n",
    "# even if it has a completely different application"
   ]
  },
  {
   "cell_type": "code",
   "execution_count": 14,
   "metadata": {},
   "outputs": [
    {
     "data": {
      "text/plain": [
       "295                                                  data/input/reports/financial-sector-development-program-rrp.pdf.metadata.json\n",
       "298                                      data/input/reports/west-kalimantan-power-grid-strengthening-project-rrp.pdf.metadata.json\n",
       "299                                                                         data/input/reports/vie-49387-003-rrp.pdf.metadata.json\n",
       "300                 data/input/reports/national-capital-region-urban-infrastructure-financing-facility-india-rrp.pdf.metadata.json\n",
       "301                                             data/input/reports/ebeye-water-supply-and-sanitation-project-rrp.pdf.metadata.json\n",
       "302                              data/input/reports/punjab-millennium-development-goals-program-subprogram-2-rrp.pdf.metadata.json\n",
       "303                                                                         data/input/reports/taj-47181-004-rrp.pdf.metadata.json\n",
       "304                                                    data/input/reports/integrated-road-investment-program-rrp.pdf.metadata.json\n",
       "308                       data/input/reports/metro-manila-air-quality-improvement-sector-development-program-rrp.pdf.metadata.json\n",
       "311                                                                         data/input/reports/ind-42486-016-rrp.pdf.metadata.json\n",
       "312                                               data/input/reports/eastern-sichuan-roads-development-project-1.pdf.metadata.json\n",
       "314                                                                         data/input/reports/arm-51129-002-rrp.pdf.metadata.json\n",
       "316                                  data/input/reports/third-financial-sector-program-subprogram-2-viet-nam-rrp.pdf.metadata.json\n",
       "317                                                                         data/input/reports/cam-50101-002-rrp.pdf.metadata.json\n",
       "318                                           data/input/reports/greenhouse-agricultural-development-project-rrp.pdf.metadata.json\n",
       "319                                      data/input/reports/education-poor-financial-crisis-response-project-rrp.pdf.metadata.json\n",
       "321                                                           data/input/reports/flood-protection-sector-project.pdf.metadata.json\n",
       "322                  data/input/reports/third-urban-governance-and-infrastructure-improvement-sector-project-rrp.pdf.metadata.json\n",
       "326                                                     data/input/reports/rural-roads-improvement-project-2-rrp.pdf.metadata.json\n",
       "328                                                                         data/input/reports/prc-50393-002-rrp.pdf.metadata.json\n",
       "330    data/input/reports/disaster-risk-reduction-and-livelihood-restoration-earthquake-affected-communities-rrp.pdf.metadata.json\n",
       "332                                                                         data/input/reports/ind-54450-001-rrp.pdf.metadata.json\n",
       "334                                                        data/input/reports/proposed-senior-loan-khan-bank-rrp.pdf.metadata.json\n",
       "335                      data/input/reports/small-and-medium-enterprise-export-development-project-indonesia-rrp.pdf.metadata.json\n",
       "339                                                 data/input/reports/secondary-education-development-project-1.pdf.metadata.json\n",
       "343                                                                         data/input/reports/ban-55041-001-rrp.pdf.metadata.json\n",
       "344                                    data/input/reports/karnataka-urban-infrastructure-development-project-rrp.pdf.metadata.json\n",
       "345                                                            data/input/reports/public-sector-reform-program-0.pdf.metadata.json\n",
       "346                                                                         data/input/reports/ind-50238-001-rrp.pdf.metadata.json\n",
       "347                                                                         data/input/reports/vie-53270-001-rrp.pdf.metadata.json\n",
       "348                                              data/input/reports/smallholder-support-services-pilot-project-0.pdf.metadata.json\n",
       "351                                                                         data/input/reports/cam-50292-001-rrp.pdf.metadata.json\n",
       "354                                                                         data/input/reports/ban-52174-001-rrp.pdf.metadata.json\n",
       "355                        data/input/reports/post-conflict-emergency-rehabilitation-project-solomon-islands-rrp.pdf.metadata.json\n",
       "356                                                   data/input/reports/power-sector-rehabilitation-project-rrp.pdf.metadata.json\n",
       "358                                                  data/input/reports/secondary-cities-development-project-rrp.pdf.metadata.json\n",
       "359                                                data/input/reports/central-region-water-resources-project-rrp.pdf.metadata.json\n",
       "360                                               data/input/reports/beijing-environmental-improvement-project-0.pdf.metadata.json\n",
       "361                                           data/input/reports/civil-aviation-development-investment-program-0.pdf.metadata.json\n",
       "364                                                     data/input/reports/roshan-phase-ii-expansion-project-rrp.pdf.metadata.json\n",
       "366                                         data/input/reports/heilongjiang-road-network-development-project-rrp.pdf.metadata.json\n",
       "369                                                      data/input/reports/cam-dpsfm-sector-dev-program-sp2-rrp.pdf.metadata.json\n",
       "371              data/input/reports/proposed-loan-hatton-national-bank-supporting-infrastructure-development-rrp.pdf.metadata.json\n",
       "372                                                                         data/input/reports/ino-54425-001-rrp.pdf.metadata.json\n",
       "373                                   data/input/reports/south-asia-tourism-infrastructure-development-project-0.pdf.metadata.json\n",
       "377                                            data/input/reports/omnibus-infrastructure-development-project-rrp.pdf.metadata.json\n",
       "378                                                        data/input/reports/song-bung-4-hydropower-project-rrp.pdf.metadata.json\n",
       "379                                            data/input/reports/solid-waste-management-improvement-project-rrp.pdf.metadata.json\n",
       "380               data/input/reports/mon-regional-upgrades-sanitary-and-phytosanitary-measures-trade-project-rrp.pdf.metadata.json\n",
       "384                                   data/input/reports/secondary-education-modernization-project-sri-lanka-rrp.pdf.metadata.json\n",
       "Name: fp, dtype: object"
      ]
     },
     "execution_count": 14,
     "metadata": {},
     "output_type": "execute_result"
    }
   ],
   "source": [
    "pd.set_option('display.max_colwidth', None)\n",
    "df[~df['has_content']]['fp'].head(50)"
   ]
  }
 ],
 "metadata": {
  "interpreter": {
   "hash": "31f2aee4e71d21fbe5cf8b01ff0e069b9275f58929596ceb00d14d90e3e16cd6"
  },
  "kernelspec": {
   "display_name": "Python 3.8.2 64-bit",
   "language": "python",
   "name": "python3"
  },
  "language_info": {
   "codemirror_mode": {
    "name": "ipython",
    "version": 3
   },
   "file_extension": ".py",
   "mimetype": "text/x-python",
   "name": "python",
   "nbconvert_exporter": "python",
   "pygments_lexer": "ipython3",
   "version": "3.9.9"
  },
  "orig_nbformat": 4
 },
 "nbformat": 4,
 "nbformat_minor": 2
}
